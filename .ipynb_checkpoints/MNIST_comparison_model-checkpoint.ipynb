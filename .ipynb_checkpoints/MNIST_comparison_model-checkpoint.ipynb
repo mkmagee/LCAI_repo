{
 "cells": [
  {
   "cell_type": "markdown",
   "id": "7ea6f796-d0eb-43b2-a567-bbea18c314a8",
   "metadata": {},
   "source": [
    "### Comparing Training and Evaluation Performance of a Simple Neural Network on CPU and GPU using TensorFlow and PyTorch:\n",
    "\n",
    "- uses PyTorch's 'torch.device' to switch which device is being used\n",
    "- the CPU performs all computations for training (forward and backward passes) and inference\n",
    "\n",
    "## Plan:\n",
    "1. Model is defined by PyTorch's nn.Module\n",
    "2. Data is loaded using DataLoader\n",
    "3. Training: for epoch, model processes the training data by batch. For batch, data and target labels are moved to 'device', forward pass computes the output, loss is computed using 'CrossEntropyLoss', backward pass is performed to compute gradients, optimizer updates the model parameters\n",
    "4. Inference: model processes the test data by batch. For batch. data and target labels to moved to 'device', model performs forward pass to compute predictions. In addition, accuracy, inference time, throughput, CPU usage and memory usage are calculated\n"
   ]
  },
  {
   "cell_type": "markdown",
   "id": "61d18ae9-114d-49f4-b031-48d33961d311",
   "metadata": {},
   "source": [
    "# BEST Code to test both GPU and CPU"
   ]
  },
  {
   "cell_type": "markdown",
   "id": "d82ca035-b0ac-4ea7-9a8d-1e2e601861ae",
   "metadata": {},
   "source": [
    "### My GPU:\n",
    "Chipset Model: Apple M2\n",
    "- Type: GPU (Graphics Processing Unit)\n",
    "- Bus: Built-In\n",
    "- Total Number of Cores: 8\n",
    "\n",
    "### MY CPU:\n",
    "Model Name: MacBook Air\n",
    "- Model Identifier: Mac14,2\n",
    "- Chip: Apple M2\n",
    "- Total Number of Cores: 8 (4 performance and 4 efficiency)"
   ]
  },
  {
   "cell_type": "markdown",
   "id": "fcff46c3-59c1-434c-993f-23c27aac2896",
   "metadata": {},
   "source": [
    "## Import Packages"
   ]
  },
  {
   "cell_type": "code",
   "execution_count": 1,
   "id": "02e6c2f2-dd95-4052-bafa-fbb04710c3ef",
   "metadata": {},
   "outputs": [],
   "source": [
    "#import the necessary packages\n",
    "import torch\n",
    "import torch.nn as nn\n",
    "import torch.optim as optim\n",
    "from torchvision import datasets, trabnsforms\n",
    "from torch.utils.data import DataLoader\n",
    "import time\n",
    "import psutil\n",
    "import tensorflow as tf\n"
   ]
  },
  {
   "cell_type": "markdown",
   "id": "b234ff52-824a-44a4-a7a1-d1f8bd18b9d6",
   "metadata": {},
   "source": [
    "## Data Preparation"
   ]
  },
  {
   "cell_type": "code",
   "execution_count": 3,
   "id": "1ccdffe2-6f5f-4e96-a70b-eae42293341c",
   "metadata": {},
   "outputs": [],
   "source": [
    "#define transformations to prepare dataset for training neural network\n",
    "#ToTensor - converts PIL Image/ Numpy Arrays into PyTorch tensor\n",
    "#Normalize - normalizes tensor images with mean and sd\n",
    "transform = transforms.Compose([transforms.ToTensor(), transforms.Normalize((0.5,), (0.5,))])\n",
    "\n",
    "#load datasets as train and test\n",
    "train_dataset = datasets.MNIST(root='./data', train=True, download=True, transform=transform)\n",
    "test_dataset = datasets.MNIST(root='./data', train=False, download=True, transform=transform)\n",
    "\n",
    "#create dataloaders\n",
    "#load in 64 samples at a time\n",
    "#shuffled at every epoch to prevent learning unintended patterns/ overfitting\n",
    "train_loader = DataLoader(train_dataset, batch_size=64, shuffle=True)\n",
    "test_loader = DataLoader(test_dataset, batch_size=64, shuffle=False)"
   ]
  },
  {
   "cell_type": "markdown",
   "id": "76fd9bb1-2da3-4c76-b358-4857ed59cc4f",
   "metadata": {},
   "source": [
    "## Define Model"
   ]
  },
  {
   "cell_type": "code",
   "execution_count": 4,
   "id": "930c0dc8-aa35-46d2-99ae-975a080dc089",
   "metadata": {},
   "outputs": [],
   "source": [
    "#define a simple neural network\n",
    "class SimpleNN(nn.Module):\n",
    "    #initializes layers of the neural network\n",
    "    def __init__(self):\n",
    "        #constructor of parent class\n",
    "        super(SimpleNN, self).__init__()\n",
    "        #defines 3 linear (fully connected) layers\n",
    "        self.fc1 = nn.Linear(28 * 28, 128) #matches dimension size of input images, with 128 features in the layer\n",
    "        self.fc2 = nn.Linear(128, 64) \n",
    "        self.fc3 = nn.Linear(64, 10) #10 matches number of classification classes\n",
    "\n",
    "    #defines forward pass of the neural network\n",
    "    def forward(self, x):\n",
    "        #flattens input tensor\n",
    "        x = torch.flatten(x, 1)\n",
    "        x = torch.relu(self.fc1(x))\n",
    "        x = torch.relu(self.fc2(x))\n",
    "        x = self.fc3(x)\n",
    "        #should return classification class, a digit 0-9\n",
    "        return x"
   ]
  },
  {
   "cell_type": "markdown",
   "id": "25d7400d-4ca5-4d0f-a428-5237d19e2310",
   "metadata": {},
   "source": [
    "## System Metrics Function"
   ]
  },
  {
   "cell_type": "code",
   "execution_count": 5,
   "id": "bbca0470-7c56-42c6-8f61-465398caf180",
   "metadata": {},
   "outputs": [],
   "source": [
    "#function to get system metrics (cpu usage and memory)\n",
    "def get_system_metrics():\n",
    "    cpu_usage = psutil.cpu_percent()\n",
    "    memory_info = psutil.virtual_memory()\n",
    "    return cpu_usage, memory_info.percent"
   ]
  },
  {
   "cell_type": "markdown",
   "id": "a0227814-8de9-4d51-a741-e047055b0ab5",
   "metadata": {},
   "source": [
    "## Training Loop"
   ]
  },
  {
   "cell_type": "code",
   "execution_count": 6,
   "id": "123759ca-db44-4f69-aa6e-65c5b509b340",
   "metadata": {},
   "outputs": [],
   "source": [
    "#function for training loop\n",
    "#set number of epoch to 5\n",
    "def train_model(model, train_loader, criterion, optimizer, device, num_epochs=5):\n",
    "    model.train() #sets model to training mode\n",
    "    total_training_time = 0  #initialize total training time\n",
    "    model.to(device)  # move model to the specified device\n",
    "    #loops over each 5 epoch\n",
    "    for epoch in range(num_epochs):\n",
    "        #starts timer for time parameters\n",
    "        start_time = time.time()\n",
    "        epoch_loss = 0\n",
    "        #inner loop iterates over the batches of data from the training dataset\n",
    "        for batch_idx, (data, target) in enumerate(train_loader): \n",
    "            data, target = data.to(device), target.to(device)  # move data and target to the specified device\n",
    "            optimizer.zero_grad() #clears the gradients of optimized tensors\n",
    "            output = model(data) #passes training data through model\n",
    "            loss = criterion(output, target) #calculates loss (how well the model's predictions match the target values)\n",
    "            loss.backward()\n",
    "            optimizer.step() #updates model params\n",
    "            epoch_loss += loss.item()\n",
    "\n",
    "        end_time = time.time()\n",
    "        total_epoch_time = end_time - start_time #calculates total time taken for epoch\n",
    "        total_training_time += total_epoch_time  # Accumulate total training time\n",
    "\n",
    "        cpu_usage, memory_usage = get_system_metrics()\n",
    "        \n",
    "        print(f'Epoch [{epoch+1}/{num_epochs}], Loss: {epoch_loss/len(train_loader):.4f}, Time: {total_epoch_time:.2f}s, CPU Usage: {cpu_usage}%, Memory Usage: {memory_usage}%')\n",
    "\n",
    "    #print total training time after all epochs\n",
    "    print(f'Total Training Time: {total_training_time:.2f}s')"
   ]
  },
  {
   "cell_type": "markdown",
   "id": "15d5b584-59fa-4cdc-8921-edc4170ff2de",
   "metadata": {},
   "source": [
    "## Inference Loop"
   ]
  },
  {
   "cell_type": "code",
   "execution_count": 7,
   "id": "2966b621-b910-41a1-bb15-6b0c78712002",
   "metadata": {},
   "outputs": [],
   "source": [
    "#inference loop\n",
    "#create function for evaluation, with model and test data as parameters\n",
    "def evaluate_model(model, test_loader, device):\n",
    "    model.eval() #sets model to evaluation mode\n",
    "    model.to(device)  # move model to the specified device\n",
    "    #initialize metircs\n",
    "    total_correct = 0\n",
    "    total_samples = 0\n",
    "    total_inference_time = 0\n",
    "\n",
    "    with torch.no_grad(): #disables gradient calculation (reduces memory usage and speeds up)\n",
    "        for batch_idx, (data, target) in enumerate(test_loader): #loops through batches from the test dataset\n",
    "            data, target = data.to(device), target.to(device)  # move data and target to the specified device\n",
    "            start_time = time.time()\n",
    "            output = model(data)\n",
    "            end_time = time.time()\n",
    "            \n",
    "            inference_time = end_time - start_time #calculates inference time for current batch\n",
    "            total_inference_time += inference_time #adds up each inference time\n",
    "            \n",
    "            _, predicted = torch.max(output.data, 1) #finds the class w highest predicted score for each sample in the batch\n",
    "            total_correct += (predicted == target).sum().item() #compares predicted with actual label, counts the total num of correct predictions\n",
    "            total_samples += target.size(0) #gets the number of samples in the current batch and adds to count of total samples processed\n",
    "\n",
    "    accuracy = total_correct / total_samples \n",
    "    avg_inference_time = total_inference_time / len(test_loader)\n",
    "    throughput = total_samples / total_inference_time #computes the num of samples processed per second\n",
    "    \n",
    "    cpu_usage, memory_usage = get_system_metrics() #uses function from above\n",
    "    \n",
    "    print(f'Accuracy: {accuracy:.4f}, Average Inference Time: {avg_inference_time:.4f}s, Throughput: {throughput:.2f} samples/s, CPU Usage: {cpu_usage}%, Memory Usage: {memory_usage}%')\n"
   ]
  },
  {
   "cell_type": "markdown",
   "id": "3bc13a10-4458-4f9b-a017-767dbbaf5937",
   "metadata": {},
   "source": [
    "## Run Experiment"
   ]
  },
  {
   "cell_type": "code",
   "execution_count": 8,
   "id": "7cd9a014-c288-4f08-bd39-c24289bce141",
   "metadata": {},
   "outputs": [],
   "source": [
    "#function to run the entire workflow on a specified device\n",
    "def run_experiment(device):\n",
    "    #initialize the model\n",
    "    model = SimpleNN()\n",
    "    #define loss function and optimizer\n",
    "    criterion = nn.CrossEntropyLoss() #CEL measures how well the model's predictions match the actual labels, best for classification\n",
    "    optimizer = optim.SGD(model.parameters(), lr=0.01) #SGD updates the model params \n",
    "\n",
    "    #train the model by running training loop\n",
    "    train_model(model, train_loader, criterion, optimizer, device, num_epochs=5)\n",
    "    #evaluate the model using function \n",
    "    evaluate_model(model, test_loader, device)"
   ]
  },
  {
   "cell_type": "markdown",
   "id": "54b16f13-20ca-483e-b26f-3943021a6abe",
   "metadata": {},
   "source": [
    "# Testing CPU"
   ]
  },
  {
   "cell_type": "code",
   "execution_count": 9,
   "id": "d4063495-77a2-44da-a795-de1249b36155",
   "metadata": {},
   "outputs": [
    {
     "name": "stdout",
     "output_type": "stream",
     "text": [
      "Running on cpu\n",
      "Epoch [1/5], Loss: 1.0473, Time: 2.37s, CPU Usage: 18.6%, Memory Usage: 83.8%\n",
      "Epoch [2/5], Loss: 0.3819, Time: 2.11s, CPU Usage: 78.0%, Memory Usage: 83.8%\n",
      "Epoch [3/5], Loss: 0.3256, Time: 2.13s, CPU Usage: 94.1%, Memory Usage: 84.1%\n",
      "Epoch [4/5], Loss: 0.2956, Time: 2.14s, CPU Usage: 90.2%, Memory Usage: 83.5%\n",
      "Epoch [5/5], Loss: 0.2710, Time: 2.15s, CPU Usage: 89.9%, Memory Usage: 83.3%\n",
      "Total Training Time: 10.90s\n",
      "Accuracy: 0.9241, Average Inference Time: 0.0001s, Throughput: 765998.98 samples/s, CPU Usage: 75.4%, Memory Usage: 83.7%\n"
     ]
    }
   ],
   "source": [
    "device = torch.device('cpu')\n",
    "print(f\"Running on {device}\")\n",
    "\n",
    "\n",
    "#run the experiment on CPU\n",
    "run_experiment('cpu')"
   ]
  },
  {
   "cell_type": "markdown",
   "id": "c7dc0d2a-ceb1-457c-99ba-7cddeaa92094",
   "metadata": {},
   "source": [
    "# Testing GPU"
   ]
  },
  {
   "cell_type": "code",
   "execution_count": 15,
   "id": "2bae5f9b-6ee8-48e9-a82d-cb1d1f06e610",
   "metadata": {},
   "outputs": [
    {
     "name": "stdout",
     "output_type": "stream",
     "text": [
      "Running on mps\n",
      "Epoch [1/5], Loss: 0.9877, Time: 3.90s, CPU Usage: 11.0%, Memory Usage: 84.9%\n",
      "Epoch [2/5], Loss: 0.3814, Time: 3.31s, CPU Usage: 18.1%, Memory Usage: 84.5%\n",
      "Epoch [3/5], Loss: 0.3263, Time: 3.29s, CPU Usage: 17.2%, Memory Usage: 83.8%\n",
      "Epoch [4/5], Loss: 0.2946, Time: 3.35s, CPU Usage: 21.1%, Memory Usage: 84.2%\n",
      "Epoch [5/5], Loss: 0.2707, Time: 3.34s, CPU Usage: 18.6%, Memory Usage: 84.8%\n",
      "Total Training Time: 17.20s\n",
      "Accuracy: 0.9236, Average Inference Time: 0.0002s, Throughput: 352506.95 samples/s, CPU Usage: 38.3%, Memory Usage: 85.3%\n"
     ]
    }
   ],
   "source": [
    "#check if a GPU is available and run the experiment on GPU\n",
    "if torch.backends.mps.is_available():\n",
    "    device = torch.device('mps')\n",
    "    print(f\"Running on {device}\")\n",
    "else:\n",
    "    device = torch.device('cpu')\n",
    "    print(\"MPS device not found, running on CPU\")\n",
    "\n",
    "run_experiment('mps')"
   ]
  },
  {
   "cell_type": "code",
   "execution_count": null,
   "id": "181df3ac-48d5-4cb2-9f6e-9064fa195416",
   "metadata": {},
   "outputs": [],
   "source": []
  },
  {
   "cell_type": "code",
   "execution_count": null,
   "id": "554dc455-cac6-4a4f-872f-93c80448d698",
   "metadata": {},
   "outputs": [],
   "source": []
  },
  {
   "cell_type": "code",
   "execution_count": null,
   "id": "2beed37f-0c1b-4901-bd08-0fbffe0bd77c",
   "metadata": {},
   "outputs": [],
   "source": []
  },
  {
   "cell_type": "markdown",
   "id": "b9c5ed38-b76e-44f2-ac3f-48b14d710046",
   "metadata": {},
   "source": [
    "## OTHER METHOD:"
   ]
  },
  {
   "cell_type": "code",
   "execution_count": 2,
   "id": "91ef3fcc-6e8a-4880-943a-6961cbf9466e",
   "metadata": {},
   "outputs": [
    {
     "name": "stderr",
     "output_type": "stream",
     "text": [
      "/opt/anaconda3/lib/python3.11/site-packages/keras/src/layers/reshaping/flatten.py:37: UserWarning: Do not pass an `input_shape`/`input_dim` argument to a layer. When using Sequential models, prefer using an `Input(shape)` object as the first layer in the model instead.\n",
      "  super().__init__(**kwargs)\n",
      "2024-08-06 15:09:27.084739: I metal_plugin/src/device/metal_device.cc:1154] Metal device set to: Apple M2\n",
      "2024-08-06 15:09:27.084793: I metal_plugin/src/device/metal_device.cc:296] systemMemory: 8.00 GB\n",
      "2024-08-06 15:09:27.084797: I metal_plugin/src/device/metal_device.cc:313] maxCacheSize: 2.67 GB\n",
      "2024-08-06 15:09:27.085439: I tensorflow/core/common_runtime/pluggable_device/pluggable_device_factory.cc:305] Could not identify NUMA node of platform GPU ID 0, defaulting to 0. Your kernel may not have been built with NUMA support.\n",
      "2024-08-06 15:09:27.085476: I tensorflow/core/common_runtime/pluggable_device/pluggable_device_factory.cc:271] Created TensorFlow device (/job:localhost/replica:0/task:0/device:GPU:0 with 0 MB memory) -> physical PluggableDevice (device: 0, name: METAL, pci bus id: <undefined>)\n"
     ]
    },
    {
     "name": "stdout",
     "output_type": "stream",
     "text": [
      "Epoch 1/5\n",
      "\u001b[1m1875/1875\u001b[0m \u001b[32m━━━━━━━━━━━━━━━━━━━━\u001b[0m\u001b[37m\u001b[0m \u001b[1m1s\u001b[0m 582us/step - accuracy: 0.8652 - loss: 0.4686\n",
      "Epoch 2/5\n",
      "\u001b[1m1875/1875\u001b[0m \u001b[32m━━━━━━━━━━━━━━━━━━━━\u001b[0m\u001b[37m\u001b[0m \u001b[1m1s\u001b[0m 586us/step - accuracy: 0.9564 - loss: 0.1510\n",
      "Epoch 3/5\n",
      "\u001b[1m1875/1875\u001b[0m \u001b[32m━━━━━━━━━━━━━━━━━━━━\u001b[0m\u001b[37m\u001b[0m \u001b[1m1s\u001b[0m 570us/step - accuracy: 0.9664 - loss: 0.1099\n",
      "Epoch 4/5\n",
      "\u001b[1m1875/1875\u001b[0m \u001b[32m━━━━━━━━━━━━━━━━━━━━\u001b[0m\u001b[37m\u001b[0m \u001b[1m1s\u001b[0m 585us/step - accuracy: 0.9743 - loss: 0.0848\n",
      "Epoch 5/5\n",
      "\u001b[1m1875/1875\u001b[0m \u001b[32m━━━━━━━━━━━━━━━━━━━━\u001b[0m\u001b[37m\u001b[0m \u001b[1m1s\u001b[0m 699us/step - accuracy: 0.9772 - loss: 0.0741\n",
      "313/313 - 0s - 381us/step - accuracy: 0.9779 - loss: 0.0715\n",
      "CPU Training time: 6.31 seconds, Evaluation: [0.07153843343257904, 0.9779000282287598]\n",
      "Epoch 1/5\n"
     ]
    },
    {
     "name": "stderr",
     "output_type": "stream",
     "text": [
      "2024-08-06 15:09:34.311313: I tensorflow/core/grappler/optimizers/custom_graph_optimizer_registry.cc:117] Plugin optimizer for device_type GPU is enabled.\n"
     ]
    },
    {
     "name": "stdout",
     "output_type": "stream",
     "text": [
      "\u001b[1m1875/1875\u001b[0m \u001b[32m━━━━━━━━━━━━━━━━━━━━\u001b[0m\u001b[37m\u001b[0m \u001b[1m8s\u001b[0m 4ms/step - accuracy: 0.8561 - loss: 0.4903\n",
      "Epoch 2/5\n",
      "\u001b[1m1875/1875\u001b[0m \u001b[32m━━━━━━━━━━━━━━━━━━━━\u001b[0m\u001b[37m\u001b[0m \u001b[1m8s\u001b[0m 4ms/step - accuracy: 0.9549 - loss: 0.1531\n",
      "Epoch 3/5\n",
      "\u001b[1m1875/1875\u001b[0m \u001b[32m━━━━━━━━━━━━━━━━━━━━\u001b[0m\u001b[37m\u001b[0m \u001b[1m8s\u001b[0m 4ms/step - accuracy: 0.9664 - loss: 0.1094\n",
      "Epoch 4/5\n",
      "\u001b[1m1875/1875\u001b[0m \u001b[32m━━━━━━━━━━━━━━━━━━━━\u001b[0m\u001b[37m\u001b[0m \u001b[1m8s\u001b[0m 4ms/step - accuracy: 0.9735 - loss: 0.0849\n",
      "Epoch 5/5\n",
      "\u001b[1m1875/1875\u001b[0m \u001b[32m━━━━━━━━━━━━━━━━━━━━\u001b[0m\u001b[37m\u001b[0m \u001b[1m8s\u001b[0m 4ms/step - accuracy: 0.9765 - loss: 0.0729\n",
      "313/313 - 1s - 2ms/step - accuracy: 0.9768 - loss: 0.0734\n",
      "GPU Training time: 40.91 seconds, Evaluation: [0.07337352633476257, 0.9768000245094299]\n"
     ]
    }
   ],
   "source": [
    "#load and prepare the MNIST dataset\n",
    "#MNIST dataset contains handwritten digits from 0 to 9\n",
    "#x_train and x_test are the images, y_train and y_test are the corresponding labels\n",
    "mnist = tf.keras.datasets.mnist\n",
    "(x_train, y_train), (x_test, y_test) = mnist.load_data()\n",
    "\n",
    "#normalize the pixel values to be between 0 and 1 (for better performance of the model)\n",
    "x_train, x_test = x_train / 255.0, x_test / 255.0\n",
    "\n",
    "\n",
    "#The purpose of this model is to classify handwritten digit images from the MNIST dataset into one of the 10 digit classes (0-9)\n",
    "\n",
    "#build the model\n",
    "model = tf.keras.models.Sequential([\n",
    "    tf.keras.layers.Flatten(input_shape=(28, 28)),  #flatten the 28x28 images into a 1D array of 784 elements\n",
    "    tf.keras.layers.Dense(128, activation='relu'),  \n",
    "    tf.keras.layers.Dropout(0.2),  #dropout layer to prevent overfitting by dropping 20% of the input units\n",
    "    tf.keras.layers.Dense(10)  #output layer with 10 neurons (one for each digit class)\n",
    "\n",
    "])\n",
    "\n",
    "#compile the model\n",
    "loss_fn = tf.keras.losses.SparseCategoricalCrossentropy(from_logits=True)\n",
    "model.compile(optimizer='adam', loss=loss_fn, metrics=['accuracy'])\n",
    "\n",
    "#function to train and evaluate the model on a specific device\n",
    "def run_experiment(device_name):\n",
    "    with tf.device(device_name):\n",
    "        #rebuild the model for each device\n",
    "        model = tf.keras.models.Sequential([\n",
    "            tf.keras.layers.Flatten(input_shape=(28, 28)),\n",
    "            tf.keras.layers.Dense(128, activation='relu'),\n",
    "            tf.keras.layers.Dropout(0.2),\n",
    "            tf.keras.layers.Dense(10)\n",
    "        ])\n",
    "        model.compile(optimizer='adam', loss=loss_fn, metrics=['accuracy'])\n",
    "        \n",
    "        #train the model\n",
    "        start_time = time.time()\n",
    "        model.fit(x_train, y_train, epochs=5) #train the model for 5 epochs on the training data\n",
    "        end_time = time.time()\n",
    "        training_time = end_time - start_time #calculate the total training time\n",
    "        \n",
    "        #evaluate the model\n",
    "        evaluation = model.evaluate(x_test, y_test, verbose=2)\n",
    "        \n",
    "        return training_time, evaluation\n",
    "\n",
    "#run the experiment on CPU\n",
    "cpu_time, cpu_eval = run_experiment('/CPU:0')\n",
    "print(f\"CPU Training time: {cpu_time:.2f} seconds, Evaluation: {cpu_eval}\")\n",
    "\n",
    "#check if a GPU is available and run the experiment on GPU\n",
    "if tf.config.list_physical_devices('GPU'):\n",
    "    gpu_time, gpu_eval = run_experiment('/GPU:0')\n",
    "    print(f\"GPU Training time: {gpu_time:.2f} seconds, Evaluation: {gpu_eval}\")\n",
    "else:\n",
    "    print(\"No GPU found\")\n"
   ]
  }
 ],
 "metadata": {
  "kernelspec": {
   "display_name": "Python 3 (ipykernel)",
   "language": "python",
   "name": "python3"
  },
  "language_info": {
   "codemirror_mode": {
    "name": "ipython",
    "version": 3
   },
   "file_extension": ".py",
   "mimetype": "text/x-python",
   "name": "python",
   "nbconvert_exporter": "python",
   "pygments_lexer": "ipython3",
   "version": "3.11.7"
  }
 },
 "nbformat": 4,
 "nbformat_minor": 5
}
